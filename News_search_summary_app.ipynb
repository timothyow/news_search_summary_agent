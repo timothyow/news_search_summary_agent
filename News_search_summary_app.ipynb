{
  "nbformat": 4,
  "nbformat_minor": 0,
  "metadata": {
    "colab": {
      "provenance": [],
      "authorship_tag": "ABX9TyPjfZ+5re+htXX7kJS7d3pm",
      "include_colab_link": true
    },
    "kernelspec": {
      "name": "python3",
      "display_name": "Python 3"
    },
    "language_info": {
      "name": "python"
    }
  },
  "cells": [
    {
      "cell_type": "markdown",
      "metadata": {
        "id": "view-in-github",
        "colab_type": "text"
      },
      "source": [
        "<a href=\"https://colab.research.google.com/github/timothyow/news_search_summary_agent/blob/main/News_search_summary_app.ipynb\" target=\"_parent\"><img src=\"https://colab.research.google.com/assets/colab-badge.svg\" alt=\"Open In Colab\"/></a>"
      ]
    },
    {
      "cell_type": "code",
      "execution_count": null,
      "metadata": {
        "id": "7n_8cjUeo53o"
      },
      "outputs": [],
      "source": [
        "# streamlit UI\n",
        "\n",
        "import streamlit as st\n",
        "from agent_runner import run_news_agent\n",
        "\n",
        "st.set_page_config(page_title=\"Dairy News Agent\", layout=\"wide\")\n",
        "st.title(\"📰 Dairy News Summarizer (SEA)\")\n",
        "\n",
        "st.markdown(\"Searches dairy-related news for **Thailand, Indonesia, Malaysia, Philippines, Vietnam**, then summarizes and exports Word documents.\")\n",
        "\n",
        "# Date input\n",
        "start_date = st.date_input(\"Start date\")\n",
        "end_date = st.date_input(\"End date\")\n",
        "\n",
        "if start_date and end_date and start_date <= end_date:\n",
        "    if st.button(\"🔍 Run News Agent\"):\n",
        "        with st.spinner(\"Running LangGraph agent... please wait.\"):\n",
        "            results = run_news_agent(str(start_date), str(end_date))\n",
        "\n",
        "        st.success(\"✅ All summaries generated!\")\n",
        "\n",
        "        for result in results:\n",
        "            st.subheader(f\"{result['country']}\")\n",
        "            st.markdown(result[\"summary\"])\n",
        "            with open(result[\"file_path\"], \"rb\") as f:\n",
        "                st.download_button(\n",
        "                    label=f\"📥 Download {result['country']} Summary\",\n",
        "                    data=f,\n",
        "                    file_name=result[\"file_path\"].split(\"/\")[-1],\n",
        "                    mime=\"application/vnd.openxmlformats-officedocument.wordprocessingml.document\"\n",
        "                )\n",
        "else:\n",
        "    st.info(\"Please select a valid date range.\")\n"
      ]
    }
  ]
}